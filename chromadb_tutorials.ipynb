{
 "cells": [
  {
   "cell_type": "code",
   "execution_count": null,
   "id": "48de201f-92a8-4313-b884-104d90545a0e",
   "metadata": {},
   "outputs": [],
   "source": [
    "import chromadb\n",
    "\n",
    "client = chromadb.Client()\n",
    "collection = client.create_collection(name='my_collection')\n"
   ]
  },
  {
   "cell_type": "code",
   "execution_count": 17,
   "id": "24531c54-8deb-477d-acbe-2fd1ec22a93e",
   "metadata": {},
   "outputs": [],
   "source": [
    "collection.add(\n",
    "    documents=[\n",
    "        'This document is about Nepal ',\n",
    "        'This document is about Kathmandu ',\n",
    "    ],\n",
    "    ids=['id1','id2']\n",
    ")"
   ]
  },
  {
   "cell_type": "code",
   "execution_count": 18,
   "id": "ca0d09bb-d97e-4c31-9e69-24d1b50ea5cf",
   "metadata": {},
   "outputs": [
    {
     "data": {
      "text/plain": [
       "{'ids': ['id1', 'id2'],\n",
       " 'embeddings': None,\n",
       " 'documents': ['This document is about Nepal ',\n",
       "  'This document is about Kathmandu '],\n",
       " 'uris': None,\n",
       " 'included': ['metadatas', 'documents'],\n",
       " 'data': None,\n",
       " 'metadatas': [None, None]}"
      ]
     },
     "execution_count": 18,
     "metadata": {},
     "output_type": "execute_result"
    }
   ],
   "source": [
    "all_docs = collection.get()\n",
    "all_docs"
   ]
  },
  {
   "cell_type": "code",
   "execution_count": 19,
   "id": "1c9a0baf-37ae-4d39-81ab-3e3c6cb19977",
   "metadata": {},
   "outputs": [
    {
     "data": {
      "text/plain": [
       "{'ids': ['id1'],\n",
       " 'embeddings': None,\n",
       " 'documents': ['This document is about Nepal '],\n",
       " 'uris': None,\n",
       " 'included': ['metadatas', 'documents'],\n",
       " 'data': None,\n",
       " 'metadatas': [None]}"
      ]
     },
     "execution_count": 19,
     "metadata": {},
     "output_type": "execute_result"
    }
   ],
   "source": [
    "documents = collection.get('id1')\n",
    "documents"
   ]
  },
  {
   "cell_type": "code",
   "execution_count": 21,
   "id": "d51cef39-c5f9-4255-a0fb-06f6ae188632",
   "metadata": {},
   "outputs": [
    {
     "data": {
      "text/plain": [
       "{'ids': [['id1', 'id2']],\n",
       " 'embeddings': None,\n",
       " 'documents': [['This document is about Nepal ',\n",
       "   'This document is about Kathmandu ']],\n",
       " 'uris': None,\n",
       " 'included': ['metadatas', 'documents', 'distances'],\n",
       " 'data': None,\n",
       " 'metadatas': [[None, None]],\n",
       " 'distances': [[1.2349140644073486, 1.266426920890808]]}"
      ]
     },
     "execution_count": 21,
     "metadata": {},
     "output_type": "execute_result"
    }
   ],
   "source": [
    "collection.query(\n",
    "    query_texts = ['Query is about Temple'],\n",
    "    n_results=2\n",
    ")"
   ]
  },
  {
   "cell_type": "code",
   "execution_count": 22,
   "id": "2a39c490-c7d2-4d4c-a63d-ae7880ba6463",
   "metadata": {},
   "outputs": [
    {
     "name": "stderr",
     "output_type": "stream",
     "text": [
      "Failed to send telemetry event CollectionDeleteEvent: capture() takes 1 positional argument but 3 were given\n"
     ]
    },
    {
     "data": {
      "text/plain": [
       "{'ids': [],\n",
       " 'embeddings': None,\n",
       " 'documents': [],\n",
       " 'uris': None,\n",
       " 'included': ['metadatas', 'documents'],\n",
       " 'data': None,\n",
       " 'metadatas': []}"
      ]
     },
     "execution_count": 22,
     "metadata": {},
     "output_type": "execute_result"
    }
   ],
   "source": [
    "# to delete all the documents \n",
    "collection.delete(ids=all_docs['ids'])\n",
    "collection.get()"
   ]
  },
  {
   "cell_type": "code",
   "execution_count": 24,
   "id": "e101fb26-37f2-48bc-879e-51375c301f46",
   "metadata": {},
   "outputs": [],
   "source": [
    "collection.add(\n",
    "    documents=[\n",
    "        'This document is about Nepal ',\n",
    "        'This document is about Kathmandu ',\n",
    "        'This document is about New York',\n",
    "        'This document is about India'\n",
    "    ],\n",
    "    ids=['id1','id2','id3','id4'],\n",
    "    metadatas=[\n",
    "        {'url': \"https://en.wikipedia.org/wiki/Nepal\"},\n",
    "        {'url': \"https://en.wikipedia.org/wiki/Kathmandu\"},\n",
    "        {'url': \"https://en.wikipedia.org/wiki/New York\"},\n",
    "        {'url': \"https://en.wikipedia.org/wiki/India\"},\n",
    "\n",
    "    ]\n",
    ")"
   ]
  },
  {
   "cell_type": "code",
   "execution_count": 28,
   "id": "48c70a3d-1fad-4d3f-979d-a6abbb38fbd7",
   "metadata": {},
   "outputs": [
    {
     "data": {
      "text/plain": [
       "{'ids': [['id4', 'id2']],\n",
       " 'embeddings': None,\n",
       " 'documents': [['This document is about India',\n",
       "   'This document is about Kathmandu ']],\n",
       " 'uris': None,\n",
       " 'included': ['metadatas', 'documents', 'distances'],\n",
       " 'data': None,\n",
       " 'metadatas': [[{'url': 'https://en.wikipedia.org/wiki/India'},\n",
       "   {'url': 'https://en.wikipedia.org/wiki/Kathmandu'}]],\n",
       " 'distances': [[1.3778178691864014, 1.437487006187439]]}"
      ]
     },
     "execution_count": 28,
     "metadata": {},
     "output_type": "execute_result"
    }
   ],
   "source": [
    "results = collection.query(\n",
    "    query_texts = ['Query is about Chole Bhature'],\n",
    "    n_results=2\n",
    ")\n",
    "(results)"
   ]
  },
  {
   "cell_type": "code",
   "execution_count": null,
   "id": "30e402d6-e5f6-4c0b-9a00-134c60b58422",
   "metadata": {},
   "outputs": [],
   "source": []
  }
 ],
 "metadata": {
  "kernelspec": {
   "display_name": "Python 3 (ipykernel)",
   "language": "python",
   "name": "python3"
  },
  "language_info": {
   "codemirror_mode": {
    "name": "ipython",
    "version": 3
   },
   "file_extension": ".py",
   "mimetype": "text/x-python",
   "name": "python",
   "nbconvert_exporter": "python",
   "pygments_lexer": "ipython3",
   "version": "3.13.5"
  }
 },
 "nbformat": 4,
 "nbformat_minor": 5
}
