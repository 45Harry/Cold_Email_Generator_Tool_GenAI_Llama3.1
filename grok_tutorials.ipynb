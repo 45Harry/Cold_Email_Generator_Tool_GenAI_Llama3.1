{
 "cells": [
  {
   "cell_type": "code",
   "execution_count": 7,
   "id": "87895dc0-d959-46cb-ae32-bde16c8d3b64",
   "metadata": {},
   "outputs": [
    {
     "data": {
      "text/plain": [
       "True"
      ]
     },
     "execution_count": 7,
     "metadata": {},
     "output_type": "execute_result"
    }
   ],
   "source": [
    "from dotenv import load_dotenv\n",
    "load_dotenv()\n"
   ]
  },
  {
   "cell_type": "code",
   "execution_count": 13,
   "id": "65c1bbe1-08ef-471b-a9ea-5b0e50d0793b",
   "metadata": {},
   "outputs": [
    {
     "name": "stdout",
     "output_type": "stream",
     "text": [
      "The first person to walk on the moon was Neil Armstrong. He stepped out of the lunar module Eagle and onto the moon's surface on July 20, 1969, during the Apollo 11 mission. Armstrong famously declared, \"That's one small step for man, one giant leap for mankind,\" as he became the first human to set foot on the moon.\n"
     ]
    }
   ],
   "source": [
    "from langchain_groq import ChatGroq\n",
    "from secret_key import grok_key\n",
    "\n",
    "llm = ChatGroq(\n",
    "    #model = \"deepseek-r1-distill-llama-70b\",\n",
    "    model = 'llama-3.3-70b-versatile',\n",
    "    groq_api_key = grok_key,\n",
    "    temperature=0,\n",
    "    max_tokens = None,\n",
    "    timeout = None,\n",
    "    max_retries = 2,\n",
    ")\n",
    "\n",
    "response = llm.invoke('The first person to walk on the moon was....')\n",
    "print(response.content)"
   ]
  },
  {
   "cell_type": "code",
   "execution_count": null,
   "id": "2996a7b4-0d65-48b5-89b7-1452f6ee1cd6",
   "metadata": {},
   "outputs": [],
   "source": []
  }
 ],
 "metadata": {
  "kernelspec": {
   "display_name": "Python 3 (ipykernel)",
   "language": "python",
   "name": "python3"
  },
  "language_info": {
   "codemirror_mode": {
    "name": "ipython",
    "version": 3
   },
   "file_extension": ".py",
   "mimetype": "text/x-python",
   "name": "python",
   "nbconvert_exporter": "python",
   "pygments_lexer": "ipython3",
   "version": "3.13.5"
  }
 },
 "nbformat": 4,
 "nbformat_minor": 5
}
